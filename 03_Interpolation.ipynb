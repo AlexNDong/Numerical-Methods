{
  "cells": [
    {
      "cell_type": "markdown",
      "source": [
        "This notebook is in the series of my self coding skills development regarding numerical methods. This covers:\n",
        "\n",
        "- Taylor expansion: give a approximation of the function\n",
        "- How to generate perturbed data\n",
        "- Spline interpolation\n",
        "- Fitting a model with polynominal function (best fit through every point of dataset)\n",
        "- Gradient Descent algorithm (model function, error, gradient of error, update weight)"
      ],
      "metadata": {
        "id": "0KDAnBb2yx4A"
      },
      "id": "0KDAnBb2yx4A"
    },
    {
      "cell_type": "markdown",
      "id": "e49ad235",
      "metadata": {
        "id": "e49ad235"
      },
      "source": [
        "# Interpolation of data\n",
        "- Thien Dong Nhat"
      ]
    },
    {
      "cell_type": "code",
      "execution_count": null,
      "id": "9a5970cf",
      "metadata": {
        "id": "9a5970cf"
      },
      "outputs": [],
      "source": [
        "import numpy as np\n",
        "import matplotlib.pyplot as plt"
      ]
    },
    {
      "cell_type": "markdown",
      "id": "42e0d49c",
      "metadata": {
        "id": "42e0d49c"
      },
      "source": [
        "## 1. Taylor expansion"
      ]
    },
    {
      "cell_type": "markdown",
      "id": "50b6c172",
      "metadata": {
        "id": "50b6c172"
      },
      "source": [
        "You can expand any continuous function as a polynomials\n",
        "\n",
        "\\\\( f(x)=\\sum_{n=0}^\\infty \\frac{1}{n!}f^{(n)}(x_0)\\,(x-x_0)^n\\\\)\n",
        "\n",
        "Here, \\\\( f^{(n)} \\\\) is the nth derivative and \\\\( x_0 \\\\) is the argument around which we expand the function"
      ]
    },
    {
      "cell_type": "markdown",
      "id": "43d6a72a",
      "metadata": {
        "id": "43d6a72a"
      },
      "source": [
        "### 1.1 Example: Exponential function"
      ]
    },
    {
      "cell_type": "markdown",
      "id": "522c0227",
      "metadata": {
        "id": "522c0227"
      },
      "source": [
        "\\\\( f(x)=f'(x)=f''(x)=\\dots=f^{(n)}(x)=\\exp(x) \\\\)"
      ]
    },
    {
      "cell_type": "code",
      "execution_count": null,
      "id": "6bf6da3e",
      "metadata": {
        "id": "6bf6da3e"
      },
      "outputs": [],
      "source": [
        "def expTaylor(x, x0, nmax):\n",
        "  # x: argument\n",
        "  # X0: argument at which derivatives will be calculated\n",
        "  # n_max: the upper boundary\n",
        "  t = 0\n",
        "  for n in range(nmax+1):\n",
        "    t = t + np.exp(x0) * (x - x0)**n / np.math.factorial(n)\n",
        "\n",
        "  return t "
      ]
    },
    {
      "cell_type": "code",
      "source": [
        "expTaylor(1,0,10)"
      ],
      "metadata": {
        "colab": {
          "base_uri": "https://localhost:8080/"
        },
        "id": "2M17nSBJRR94",
        "outputId": "e4e22958-76a6-4091-936b-9e30844dbb31"
      },
      "id": "2M17nSBJRR94",
      "execution_count": null,
      "outputs": [
        {
          "output_type": "execute_result",
          "data": {
            "text/plain": [
              "2.7182818011463845"
            ]
          },
          "metadata": {},
          "execution_count": 3
        }
      ]
    },
    {
      "cell_type": "code",
      "source": [
        "x_list = np.linspace(-5,5,101)\n",
        "plt.scatter(x_list, np.exp(x_list))\n",
        "\n",
        "plt.plot(x_list, expTaylor(x_list, 0, 10), \"green\")\n",
        "plt.show()"
      ],
      "metadata": {
        "colab": {
          "base_uri": "https://localhost:8080/",
          "height": 265
        },
        "id": "guDJIkd0VyEk",
        "outputId": "3669c1ac-e6ba-41b4-bb86-2db43c5e47d6"
      },
      "id": "guDJIkd0VyEk",
      "execution_count": null,
      "outputs": [
        {
          "output_type": "display_data",
          "data": {
            "text/plain": [
              "<Figure size 432x288 with 1 Axes>"
            ],
            "image/png": "[encoded data removed]"
          },
          "metadata": {
            "needs_background": "light"
          }
        }
      ]
    },
    {
      "cell_type": "code",
      "source": [
        "# We lower the number of items on apansion series\n",
        "x_list = np.linspace(-5,5,101)\n",
        "plt.scatter(x_list, np.exp(x_list))\n",
        "\n",
        "plt.plot(x_list, expTaylor(x_list, 0, 5), \"green\")\n",
        "plt.show()"
      ],
      "metadata": {
        "colab": {
          "base_uri": "https://localhost:8080/",
          "height": 265
        },
        "id": "xxRXZ9R3WxYN",
        "outputId": "3fa9b0f7-3ddb-40f9-be00-56d2b1eb1429"
      },
      "id": "xxRXZ9R3WxYN",
      "execution_count": null,
      "outputs": [
        {
          "output_type": "display_data",
          "data": {
            "text/plain": [
              "<Figure size 432x288 with 1 Axes>"
            ],
            "image/png": "[encoded data removed]"
          },
          "metadata": {
            "needs_background": "light"
          }
        }
      ]
    },
    {
      "cell_type": "code",
      "source": [
        "# We change the X0 value\n",
        "x_list = np.linspace(-5,5,101)\n",
        "plt.scatter(x_list, np.exp(x_list))\n",
        "plt.plot(x_list, expTaylor(x_list, 2, 10), \"red\")\n",
        "plt.show()"
      ],
      "metadata": {
        "colab": {
          "base_uri": "https://localhost:8080/",
          "height": 265
        },
        "id": "8DrVdVOsW_q6",
        "outputId": "e6215f19-38a6-4231-bac9-343f0bf3c498"
      },
      "id": "8DrVdVOsW_q6",
      "execution_count": null,
      "outputs": [
        {
          "output_type": "display_data",
          "data": {
            "text/plain": [
              "<Figure size 432x288 with 1 Axes>"
            ],
            "image/png": "[encoded data removed]"
          },
          "metadata": {
            "needs_background": "light"
          }
        }
      ]
    },
    {
      "cell_type": "markdown",
      "source": [
        "![image.png](data:image/png;base64,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)"
      ],
      "metadata": {
        "id": "s8HD4_99RpuP"
      },
      "id": "s8HD4_99RpuP"
    },
    {
      "cell_type": "code",
      "source": [
        "def expTaylor_all(x, n_max):\n",
        "\n",
        "  t = 0\n",
        "  for n in range(n_max+1):\n",
        "    t = t + x**n / np.math.factorial(n)\n",
        "\n",
        "  return t"
      ],
      "metadata": {
        "id": "aW1UdM1-RnxZ"
      },
      "id": "aW1UdM1-RnxZ",
      "execution_count": null,
      "outputs": []
    },
    {
      "cell_type": "code",
      "source": [
        "expTaylor_all(1,10)"
      ],
      "metadata": {
        "colab": {
          "base_uri": "https://localhost:8080/"
        },
        "id": "kelQmjLGSBDf",
        "outputId": "41d4334e-98b4-45e5-ff06-fde278cb40b9"
      },
      "id": "kelQmjLGSBDf",
      "execution_count": null,
      "outputs": [
        {
          "output_type": "execute_result",
          "data": {
            "text/plain": [
              "2.7182818011463845"
            ]
          },
          "metadata": {},
          "execution_count": 8
        }
      ]
    },
    {
      "cell_type": "markdown",
      "id": "79d68bef",
      "metadata": {
        "id": "79d68bef"
      },
      "source": [
        "### 1.2 Example: sin function at \\\\(x_0 = 0\\\\)"
      ]
    },
    {
      "cell_type": "markdown",
      "id": "2ac2e6a0",
      "metadata": {
        "id": "2ac2e6a0"
      },
      "source": [
        "\\\\( f(0) = f''(0) = f^{(4)}(0) = \\dots = 0 \\\\)\n",
        "\n",
        "\\\\( f'(0) = f^{(5)}(0) = f^{(9)}(0) = \\dots = 1 \\\\)\n",
        "\n",
        "\\\\( f'''(0) = f^{(7)}(0) = f^{(11)}(0) = \\dots = -1 \\\\)\n",
        "\n",
        "\\\\( \\sin(x) = x - \\frac{1}{3!}x^3 + \\frac{1}{5!}x^5  - \\frac{1}{7!}x^7 \\pm \\dots = \\sum_{n=0}^\\infty \\frac{(-1)^n}{(2n+1)!}x^{2n+1}\\\\)"
      ]
    },
    {
      "cell_type": "code",
      "source": [
        "n = np.arange(101)\n",
        "\n",
        "from scipy.special import factorial\n",
        "\n",
        "factorial(2*n+1)"
      ],
      "metadata": {
        "colab": {
          "base_uri": "https://localhost:8080/"
        },
        "id": "KRLHi-YJfHqe",
        "outputId": "9dd827a2-a784-4ca8-dd31-7cf5eb780418"
      },
      "id": "KRLHi-YJfHqe",
      "execution_count": null,
      "outputs": [
        {
          "output_type": "execute_result",
          "data": {
            "text/plain": [
              "array([1.00000000e+000, 6.00000000e+000, 1.20000000e+002, 5.04000000e+003,\n",
              "       3.62880000e+005, 3.99168000e+007, 6.22702080e+009, 1.30767437e+012,\n",
              "       3.55687428e+014, 1.21645100e+017, 5.10909422e+019, 2.58520167e+022,\n",
              "       1.55112100e+025, 1.08888695e+028, 8.84176199e+030, 8.22283865e+033,\n",
              "       8.68331762e+036, 1.03331480e+040, 1.37637531e+043, 2.03978821e+046,\n",
              "       3.34525266e+049, 6.04152631e+052, 1.19622221e+056, 2.58623242e+059,\n",
              "       6.08281864e+062, 1.55111875e+066, 4.27488328e+069, 1.26964034e+073,\n",
              "       4.05269195e+076, 1.38683119e+080, 5.07580214e+083, 1.98260832e+087,\n",
              "       8.24765059e+090, 3.64711109e+094, 1.71122452e+098, 8.50478589e+101,\n",
              "       4.47011546e+105, 2.48091408e+109, 1.45183092e+113, 8.94618213e+116,\n",
              "       5.79712602e+120, 3.94552397e+124, 2.81710411e+128, 2.10775730e+132,\n",
              "       1.65079552e+136, 1.35200153e+140, 1.15677251e+144, 1.03299785e+148,\n",
              "       9.61927597e+151, 9.33262154e+155, 9.42594776e+159, 9.90290072e+163,\n",
              "       1.08139676e+168, 1.22652020e+172, 1.44385958e+176, 1.76295255e+180,\n",
              "       2.23119275e+184, 2.92509369e+188, 3.96993716e+192, 5.57458576e+196,\n",
              "       8.09429853e+200, 1.21463044e+205, 1.88267718e+209, 3.01266002e+213,\n",
              "       4.97450422e+217, 8.47158069e+221, 1.48727071e+226, 2.69047271e+230,\n",
              "       5.01288875e+234, 9.61572320e+238, 1.89814376e+243, 3.85437072e+247,\n",
              "       8.04792606e+251, 1.72724589e+256, 3.80892264e+260, 8.62720977e+264,\n",
              "       2.00634391e+269, 4.78914290e+273, 1.17295688e+278, 2.94670227e+282,\n",
              "       7.59070505e+286, 2.00440158e+291, 5.42391067e+295, 1.50361651e+300,\n",
              "       4.26906801e+304,             inf,             inf,             inf,\n",
              "                   inf,             inf,             inf,             inf,\n",
              "                   inf,             inf,             inf,             inf,\n",
              "                   inf,             inf,             inf,             inf,\n",
              "                   inf])"
            ]
          },
          "metadata": {},
          "execution_count": 9
        }
      ]
    },
    {
      "cell_type": "code",
      "execution_count": null,
      "id": "c3f8ca47",
      "metadata": {
        "id": "c3f8ca47"
      },
      "outputs": [],
      "source": [
        "def sinTaylor(x, nmax):\n",
        "  n = np.arange(nmax+1)\n",
        "  total = np.sum((-1)**n * x**(2*n+1) / factorial(2*n+1))\n",
        "  return total"
      ]
    },
    {
      "cell_type": "code",
      "source": [
        "def sinTaylor_loop(x, nmax):\n",
        "  t = 0\n",
        "  for n in range(nmax+1):\n",
        "    t = t + (-1)**n * x**(2*n+1) / np.math.factorial(2*n+1)\n",
        "  return t"
      ],
      "metadata": {
        "id": "sbBce42bh2uz"
      },
      "id": "sbBce42bh2uz",
      "execution_count": null,
      "outputs": []
    },
    {
      "cell_type": "code",
      "source": [
        "sinTaylor(10.5, 20)"
      ],
      "metadata": {
        "colab": {
          "base_uri": "https://localhost:8080/"
        },
        "id": "d7Zf4JXViJB4",
        "outputId": "611bad5a-6919-4c21-c692-1b4ee48b27ad"
      },
      "id": "d7Zf4JXViJB4",
      "execution_count": null,
      "outputs": [
        {
          "output_type": "execute_result",
          "data": {
            "text/plain": [
              "-0.8796957586942402"
            ]
          },
          "metadata": {},
          "execution_count": 12
        }
      ]
    },
    {
      "cell_type": "code",
      "source": [
        "sinTaylor_loop(10.5, 20)"
      ],
      "metadata": {
        "colab": {
          "base_uri": "https://localhost:8080/"
        },
        "id": "Hhx_Nwb9iMXj",
        "outputId": "974c9928-9007-40e3-e4ca-daafb0e222af"
      },
      "id": "Hhx_Nwb9iMXj",
      "execution_count": null,
      "outputs": [
        {
          "output_type": "execute_result",
          "data": {
            "text/plain": [
              "-0.8796957586938972"
            ]
          },
          "metadata": {},
          "execution_count": 13
        }
      ]
    },
    {
      "cell_type": "code",
      "source": [
        "plt.xlabel(\"x\")\n",
        "plt.ylabel(\"y\")\n",
        "plt.ylim([-2,2])\n",
        "\n",
        "x_list = np.linspace(-10,10,101)\n",
        "plt.scatter(x_list, np.sin(x_list))\n",
        "\n",
        "plt.plot(x_list, sinTaylor_loop(x_list, 3), \"blue\")\n",
        "plt.plot(x_list, sinTaylor_loop(x_list, 6), \"red\")\n",
        "plt.plot(x_list, sinTaylor_loop(x_list, 9), \"green\")"
      ],
      "metadata": {
        "colab": {
          "base_uri": "https://localhost:8080/",
          "height": 300
        },
        "id": "MqLoLd2yhYpc",
        "outputId": "25f41c43-f21d-4afd-e727-46d5310814a0"
      },
      "id": "MqLoLd2yhYpc",
      "execution_count": null,
      "outputs": [
        {
          "output_type": "execute_result",
          "data": {
            "text/plain": [
              "[<matplotlib.lines.Line2D at 0x7f7de808b790>]"
            ]
          },
          "metadata": {},
          "execution_count": 14
        },
        {
          "output_type": "display_data",
          "data": {
            "text/plain": [
              "<Figure size 432x288 with 1 Axes>"
            ],
            "image/png": "[encoded data removed]"
          },
          "metadata": {
            "needs_background": "light"
          }
        }
      ]
    },
    {
      "cell_type": "markdown",
      "id": "9b9303de",
      "metadata": {
        "id": "9b9303de"
      },
      "source": [
        "- Accuracy of \\\\( \\sin(10.5) \\\\)"
      ]
    },
    {
      "cell_type": "code",
      "execution_count": null,
      "id": "fcca724d",
      "metadata": {
        "id": "fcca724d",
        "colab": {
          "base_uri": "https://localhost:8080/"
        },
        "outputId": "497f9501-607b-43f3-d7e4-8fd5f9bc3af3"
      },
      "outputs": [
        {
          "output_type": "execute_result",
          "data": {
            "text/plain": [
              "-0.88022267274755"
            ]
          },
          "metadata": {},
          "execution_count": 15
        }
      ],
      "source": [
        "sinTaylor(10.5, 15)"
      ]
    },
    {
      "cell_type": "code",
      "source": [
        "sinTaylor_loop(10.5, 15)"
      ],
      "metadata": {
        "colab": {
          "base_uri": "https://localhost:8080/"
        },
        "id": "wYeRO1zPHKla",
        "outputId": "3224f38c-2045-40c7-d2a1-f243c43d28b6"
      },
      "id": "wYeRO1zPHKla",
      "execution_count": null,
      "outputs": [
        {
          "output_type": "execute_result",
          "data": {
            "text/plain": [
              "-0.8802226727472069"
            ]
          },
          "metadata": {},
          "execution_count": 16
        }
      ]
    },
    {
      "cell_type": "markdown",
      "id": "3fa84c9d",
      "metadata": {
        "id": "3fa84c9d"
      },
      "source": [
        "### 1.3 Implementation of a general function"
      ]
    },
    {
      "cell_type": "markdown",
      "id": "e0b2914c",
      "metadata": {
        "id": "e0b2914c"
      },
      "source": [
        "Derivative (more details in separate section): \\\\( f'(x) = \\lim_{h\\rightarrow 0} \\frac{f(x+h)-f(x)}{h} \\\\)"
      ]
    },
    {
      "cell_type": "code",
      "execution_count": null,
      "id": "8fa7e6b2",
      "metadata": {
        "id": "8fa7e6b2"
      },
      "outputs": [],
      "source": [
        "def derivative(f, x, h):\n",
        "  # f: function\n",
        "  # x: argument\n",
        "  # h: step size\n",
        "\n",
        "  return (f(x+h) - f(x)) / h"
      ]
    },
    {
      "cell_type": "code",
      "source": [
        "def func(x):\n",
        "  return 2*np.sin(x)**2 + x"
      ],
      "metadata": {
        "id": "ou6uUbT-kRjG"
      },
      "id": "ou6uUbT-kRjG",
      "execution_count": null,
      "outputs": []
    },
    {
      "cell_type": "code",
      "source": [
        "x0 = 1\n",
        "derivative(f=func, x=x0, h=0.1)"
      ],
      "metadata": {
        "colab": {
          "base_uri": "https://localhost:8080/"
        },
        "id": "9ZjaNZwLJ5zK",
        "outputId": "13f672dc-021f-4937-fde3-671d97ff53f6"
      },
      "id": "9ZjaNZwLJ5zK",
      "execution_count": null,
      "outputs": [
        {
          "output_type": "execute_result",
          "data": {
            "text/plain": [
              "2.723542807082042"
            ]
          },
          "metadata": {},
          "execution_count": 19
        }
      ]
    },
    {
      "cell_type": "markdown",
      "id": "c3797164",
      "metadata": {
        "id": "c3797164"
      },
      "source": [
        "Higher derivatives: \\\\( f^{(n)}(x) = \\lim_{h\\rightarrow 0} \\frac{1}{h^n}\\sum_{k=0}^n(-1)^{k+n} \\,\\frac{n!}{k!(n-k)!} \\,f(x+kh)\\\\)"
      ]
    },
    {
      "cell_type": "code",
      "execution_count": null,
      "id": "79be1154",
      "metadata": {
        "id": "79be1154"
      },
      "outputs": [],
      "source": [
        "def n_derivative(f, x, h, n):\n",
        "  # f: function\n",
        "  # x: argument\n",
        "  # h: step size\n",
        "  # n: order of derivative\n",
        "  t = 0\n",
        "  for k in range(n+1):\n",
        "    t = t + (1/h**n)*(-1**(k+n))*np.math.factorial(n)/(np.math.factorial(k)*np.math.factorial(n-k))*f(x+k*h)\n",
        "\n",
        "  return t"
      ]
    },
    {
      "cell_type": "code",
      "source": [
        "n_derivative(f=func, x=x0, h=0.01, n=10)"
      ],
      "metadata": {
        "colab": {
          "base_uri": "https://localhost:8080/"
        },
        "id": "dXqZkibcJYXq",
        "outputId": "0b1d0d3a-6f8a-4818-dcab-2316a64b734e"
      },
      "id": "dXqZkibcJYXq",
      "execution_count": null,
      "outputs": [
        {
          "output_type": "execute_result",
          "data": {
            "text/plain": [
              "-2.6159039902082494e+23"
            ]
          },
          "metadata": {},
          "execution_count": 21
        }
      ]
    },
    {
      "cell_type": "markdown",
      "source": [
        "You can expand any continuous function as a polynomials\n",
        "\n",
        "\\\\( f(x)=\\sum_{n=0}^\\infty \\frac{1}{n!}f^{(n)}(x_0)\\,(x-x_0)^n\\\\)\n",
        "\n",
        "Here, \\\\( f^{(n)} \\\\) is the nth derivative and \\\\( x_0 \\\\) is the argument around which we expand the function\n",
        "\n",
        "\n",
        "Higher derivatives: \\\\( f^{(n)}(x) = \\lim_{h\\rightarrow 0} \\frac{1}{h^n}\\sum_{k=0}^n(-1)^{k+n} \\,\\frac{n!}{k!(n-k)!} \\,f(x+kh)\\\\)"
      ],
      "metadata": {
        "id": "ATjb_02iNwlQ"
      },
      "id": "ATjb_02iNwlQ"
    },
    {
      "cell_type": "code",
      "source": [
        "#### Tayylor Expansion general form\n",
        "def n_derivative(f, x, h, n):\n",
        "  # f: function\n",
        "  # x: argument\n",
        "  # h: step size\n",
        "  # n: order of derivative\n",
        "  t = 0\n",
        "  for k in range(n+1):\n",
        "    t = t + ((-1)**(k+n))*np.math.factorial(n)/(np.math.factorial(k)*np.math.factorial(n-k))*f(x+k*h)\n",
        "\n",
        "  return t / h**n\n",
        "\n",
        "\n",
        "def Taylor(f, x, x0, nmax, h):\n",
        "  # f: function\n",
        "  # x: argument\n",
        "  # x0: intitial point\n",
        "  # h: step size\n",
        "  # n: order of derivative\n",
        "  \n",
        "  # We will program the taylor expansion with the defined n_derivative function\n",
        "  t = 0\n",
        "  for n in range(nmax + 1):\n",
        "    t = t + 1/np.math.factorial(n) * n_derivative(f, x0, h, n) * (x-x0)**n\n",
        "\n",
        "  return t"
      ],
      "metadata": {
        "id": "R_ebU4nCNh5s"
      },
      "id": "R_ebU4nCNh5s",
      "execution_count": null,
      "outputs": []
    },
    {
      "cell_type": "code",
      "source": [
        "sinTaylor(10.5, 15)"
      ],
      "metadata": {
        "colab": {
          "base_uri": "https://localhost:8080/"
        },
        "id": "kznaFlXjR0ki",
        "outputId": "e4dc4dd3-002d-4f9c-d58b-1ca6f1aae152"
      },
      "id": "kznaFlXjR0ki",
      "execution_count": null,
      "outputs": [
        {
          "output_type": "execute_result",
          "data": {
            "text/plain": [
              "-0.88022267274755"
            ]
          },
          "metadata": {},
          "execution_count": 23
        }
      ]
    },
    {
      "cell_type": "code",
      "source": [
        "def func(x):\n",
        "  return 2*np.sin(x)**2 + x\n",
        "\n",
        "n_derivative(func, 10.5, 0.1, 2)"
      ],
      "metadata": {
        "colab": {
          "base_uri": "https://localhost:8080/"
        },
        "id": "aWFF7KtoR15D",
        "outputId": "1cd4a70e-c700-4b31-91ca-fe7dad53543e"
      },
      "id": "aWFF7KtoR15D",
      "execution_count": null,
      "outputs": [
        {
          "output_type": "execute_result",
          "data": {
            "text/plain": [
              "-2.802754599797907"
            ]
          },
          "metadata": {},
          "execution_count": 24
        }
      ]
    },
    {
      "cell_type": "code",
      "source": [
        "plt.xlabel(\"x\")\n",
        "plt.ylabel(\"y\")\n",
        "plt.ylim([-5,8])\n",
        "\n",
        "x_list = np.linspace(-5,5,101)\n",
        "plt.scatter(x_list, func(x_list))\n",
        "\n",
        "plt.plot(x_list, Taylor(func, x_list, x0=0, nmax=15, h=0.05), \"blue\")\n",
        "plt.plot(x_list, Taylor(func, x_list, x0=2, nmax=15, h=0.05), \"green\")\n",
        "plt.plot(x_list, Taylor(func, x_list, x0=-3, nmax=15, h=0.05), \"red\")"
      ],
      "metadata": {
        "colab": {
          "base_uri": "https://localhost:8080/",
          "height": 300
        },
        "id": "8xwl1PqiS7ZR",
        "outputId": "2fc5cfb6-3b1c-46e4-aeba-4f0eed983fae"
      },
      "id": "8xwl1PqiS7ZR",
      "execution_count": null,
      "outputs": [
        {
          "output_type": "execute_result",
          "data": {
            "text/plain": [
              "[<matplotlib.lines.Line2D at 0x7f7dcdf43a90>]"
            ]
          },
          "metadata": {},
          "execution_count": 25
        },
        {
          "output_type": "display_data",
          "data": {
            "text/plain": [
              "<Figure size 432x288 with 1 Axes>"
            ],
            "image/png": "[encoded data removed]"
          },
          "metadata": {
            "needs_background": "light"
          }
        }
      ]
    },
    {
      "cell_type": "code",
      "source": [
        "def func(x):\n",
        "  return np.exp(-0.1*x**2)\n",
        "\n",
        "plt.xlabel(\"x\")\n",
        "plt.ylabel(\"y\")\n",
        "plt.ylim([-5,8])\n",
        "\n",
        "x_list = np.linspace(-5,5,101)\n",
        "plt.scatter(x_list, func(x_list))\n",
        "\n",
        "plt.plot(x_list, Taylor(func, x_list, x0=0, nmax=15, h=0.05), \"blue\")\n",
        "plt.plot(x_list, Taylor(func, x_list, x0=2, nmax=15, h=0.05), \"green\")\n",
        "plt.plot(x_list, Taylor(func, x_list, x0=-3, nmax=15, h=0.05), \"red\")"
      ],
      "metadata": {
        "colab": {
          "base_uri": "https://localhost:8080/",
          "height": 300
        },
        "id": "gV_C3EmeaekF",
        "outputId": "8048d4b0-17ce-46f3-eb2a-34265f4563f4"
      },
      "id": "gV_C3EmeaekF",
      "execution_count": null,
      "outputs": [
        {
          "output_type": "execute_result",
          "data": {
            "text/plain": [
              "[<matplotlib.lines.Line2D at 0x7f7dcdeb8f40>]"
            ]
          },
          "metadata": {},
          "execution_count": 26
        },
        {
          "output_type": "display_data",
          "data": {
            "text/plain": [
              "<Figure size 432x288 with 1 Axes>"
            ],
            "image/png": "[encoded data removed]"
          },
          "metadata": {
            "needs_background": "light"
          }
        }
      ]
    },
    {
      "cell_type": "markdown",
      "id": "777c00ec",
      "metadata": {
        "id": "777c00ec"
      },
      "source": [
        "## 2. Interpolation"
      ]
    },
    {
      "cell_type": "markdown",
      "id": "9c44bbf6",
      "metadata": {
        "id": "9c44bbf6"
      },
      "source": [
        "### 2.1 Generate data points"
      ]
    },
    {
      "cell_type": "code",
      "execution_count": null,
      "id": "2459d9c8",
      "metadata": {
        "id": "2459d9c8"
      },
      "outputs": [],
      "source": [
        "def correctFunction(x):\n",
        "  return 15 + 2.4*x - 0.5*x**2 - 0.35*x**3"
      ]
    },
    {
      "cell_type": "code",
      "source": [
        "npoints = 21\n",
        "xlist = np.linspace(-5,5,npoints)\n",
        "data0 = np.array([xlist, correctFunction(xlist)])\n",
        "\n",
        "plt.xlabel(\"x\")\n",
        "plt.ylabel(\"y\")\n",
        "plt.scatter(data0[0], data0[1])"
      ],
      "metadata": {
        "colab": {
          "base_uri": "https://localhost:8080/",
          "height": 296
        },
        "id": "fnneN-1xheeF",
        "outputId": "a124d2a1-4e10-47d0-a089-9291244b89f9"
      },
      "id": "fnneN-1xheeF",
      "execution_count": null,
      "outputs": [
        {
          "output_type": "execute_result",
          "data": {
            "text/plain": [
              "<matplotlib.collections.PathCollection at 0x7f7dcde36310>"
            ]
          },
          "metadata": {},
          "execution_count": 28
        },
        {
          "output_type": "display_data",
          "data": {
            "text/plain": [
              "<Figure size 432x288 with 1 Axes>"
            ],
            "image/png": "[encoded data removed]"
          },
          "metadata": {
            "needs_background": "light"
          }
        }
      ]
    },
    {
      "cell_type": "code",
      "source": [
        "data0.T"
      ],
      "metadata": {
        "colab": {
          "base_uri": "https://localhost:8080/"
        },
        "id": "SpZtFIYCh_bO",
        "outputId": "181304ce-3dc5-4aca-a6cb-5d2605b322cb"
      },
      "id": "SpZtFIYCh_bO",
      "execution_count": null,
      "outputs": [
        {
          "output_type": "execute_result",
          "data": {
            "text/plain": [
              "array([[ -5.     ,  34.25   ],\n",
              "       [ -4.5    ,  25.96875],\n",
              "       [ -4.     ,  19.8    ],\n",
              "       [ -3.5    ,  15.48125],\n",
              "       [ -3.     ,  12.75   ],\n",
              "       [ -2.5    ,  11.34375],\n",
              "       [ -2.     ,  11.     ],\n",
              "       [ -1.5    ,  11.45625],\n",
              "       [ -1.     ,  12.45   ],\n",
              "       [ -0.5    ,  13.71875],\n",
              "       [  0.     ,  15.     ],\n",
              "       [  0.5    ,  16.03125],\n",
              "       [  1.     ,  16.55   ],\n",
              "       [  1.5    ,  16.29375],\n",
              "       [  2.     ,  15.     ],\n",
              "       [  2.5    ,  12.40625],\n",
              "       [  3.     ,   8.25   ],\n",
              "       [  3.5    ,   2.26875],\n",
              "       [  4.     ,  -5.8    ],\n",
              "       [  4.5    , -16.21875],\n",
              "       [  5.     , -29.25   ]])"
            ]
          },
          "metadata": {},
          "execution_count": 29
        }
      ]
    },
    {
      "cell_type": "markdown",
      "id": "6ed78b40",
      "metadata": {
        "id": "6ed78b40"
      },
      "source": [
        "Modify x and y values by adding random numbers"
      ]
    },
    {
      "cell_type": "code",
      "execution_count": null,
      "id": "a51fd2a7",
      "metadata": {
        "id": "a51fd2a7",
        "colab": {
          "base_uri": "https://localhost:8080/"
        },
        "outputId": "35e1ff8c-5872-47cc-a3ed-bf32eca0093f"
      },
      "outputs": [
        {
          "output_type": "execute_result",
          "data": {
            "text/plain": [
              "array([ 0.08625119, -0.04451675, -0.04136045,  0.03542798,  0.0971354 ,\n",
              "       -0.09493483, -0.08333855,  0.03845131, -0.09669524, -0.00795626,\n",
              "        0.03346877, -0.00210538, -0.04479183, -0.04360932, -0.05076222,\n",
              "       -0.09996672,  0.09735074, -0.08820661, -0.00388437, -0.02610473,\n",
              "        0.09695265])"
            ]
          },
          "metadata": {},
          "execution_count": 30
        }
      ],
      "source": [
        "# Random from -1 to 1\n",
        "2*np.random.rand(npoints) -1 \n",
        "\n",
        "# Random from -0.1 to 0.1\n",
        "(2*np.random.rand(npoints) -1) * 0.1"
      ]
    },
    {
      "cell_type": "code",
      "source": [
        "# Shift x by +- 0.25 and y by +- 5.0\n",
        "data = np.array([data0[0] + (2*np.random.rand(npoints) -1) * 0.25, data0[1] + (2*np.random.rand(npoints) -1) * 5])"
      ],
      "metadata": {
        "id": "rT7PC_tXlgVF"
      },
      "id": "rT7PC_tXlgVF",
      "execution_count": null,
      "outputs": []
    },
    {
      "cell_type": "code",
      "source": [
        "plt.xlabel(\"x\")\n",
        "plt.ylabel(\"y\")\n",
        "plt.scatter(data[0], data[1])\n",
        "plt.plot(data0[0], data0[1], \"green\")"
      ],
      "metadata": {
        "colab": {
          "base_uri": "https://localhost:8080/",
          "height": 296
        },
        "id": "rkoO6b1vmJcG",
        "outputId": "98b055a2-e99f-4ec5-dbf5-faa1cb1e8e4e"
      },
      "id": "rkoO6b1vmJcG",
      "execution_count": null,
      "outputs": [
        {
          "output_type": "execute_result",
          "data": {
            "text/plain": [
              "[<matplotlib.lines.Line2D at 0x7f7dcddabaf0>]"
            ]
          },
          "metadata": {},
          "execution_count": 32
        },
        {
          "output_type": "display_data",
          "data": {
            "text/plain": [
              "<Figure size 432x288 with 1 Axes>"
            ],
            "image/png": "[encoded data removed]"
          },
          "metadata": {
            "needs_background": "light"
          }
        }
      ]
    },
    {
      "cell_type": "markdown",
      "id": "11eb81d5",
      "metadata": {
        "id": "11eb81d5"
      },
      "source": [
        "## 2.2 Spline interpolation"
      ]
    },
    {
      "cell_type": "markdown",
      "id": "61bc4320",
      "metadata": {
        "id": "61bc4320"
      },
      "source": [
        "A spline interpolation always fits the data perfectly and even has a continuous derivative, if a cubic spline is used.\n",
        "\n",
        "The spline is defined piecewise."
      ]
    },
    {
      "cell_type": "markdown",
      "id": "bfd29e75",
      "metadata": {
        "id": "bfd29e75"
      },
      "source": [
        "### 2.2.1 Unperturbed data"
      ]
    },
    {
      "cell_type": "code",
      "execution_count": null,
      "id": "2caa50df",
      "metadata": {
        "id": "2caa50df",
        "colab": {
          "base_uri": "https://localhost:8080/",
          "height": 296
        },
        "outputId": "39abf524-37e0-4c45-94fd-e2ad11d89728"
      },
      "outputs": [
        {
          "output_type": "execute_result",
          "data": {
            "text/plain": [
              "<matplotlib.collections.PathCollection at 0x7f7dcde556d0>"
            ]
          },
          "metadata": {},
          "execution_count": 33
        },
        {
          "output_type": "display_data",
          "data": {
            "text/plain": [
              "<Figure size 432x288 with 1 Axes>"
            ],
            "image/png": "[encoded data removed]"
          },
          "metadata": {
            "needs_background": "light"
          }
        }
      ],
      "source": [
        "plt.xlabel(\"x\")\n",
        "plt.ylabel(\"y\")\n",
        "plt.scatter(data0[0], data0[1])"
      ]
    },
    {
      "cell_type": "code",
      "execution_count": null,
      "id": "6f72d71d",
      "metadata": {
        "id": "6f72d71d"
      },
      "outputs": [],
      "source": [
        "from scipy import interpolate"
      ]
    },
    {
      "cell_type": "markdown",
      "id": "a60f24f5",
      "metadata": {
        "id": "a60f24f5"
      },
      "source": [
        "- linear splines"
      ]
    },
    {
      "cell_type": "code",
      "execution_count": null,
      "id": "19bb52c2",
      "metadata": {
        "id": "19bb52c2",
        "colab": {
          "base_uri": "https://localhost:8080/",
          "height": 296
        },
        "outputId": "dd369597-5ca8-425e-ca57-8374eb2b679e"
      },
      "outputs": [
        {
          "output_type": "execute_result",
          "data": {
            "text/plain": [
              "[<matplotlib.lines.Line2D at 0x7f7dcd0c2790>]"
            ]
          },
          "metadata": {},
          "execution_count": 35
        },
        {
          "output_type": "display_data",
          "data": {
            "text/plain": [
              "<Figure size 432x288 with 1 Axes>"
            ],
            "image/png": "[encoded data removed]"
          },
          "metadata": {
            "needs_background": "light"
          }
        }
      ],
      "source": [
        "splineLinear0 = interpolate.interp1d(data0[0], data0[1], kind='linear')\n",
        "\n",
        "plt.xlabel(\"x\")\n",
        "plt.ylabel(\"y\")\n",
        "plt.scatter(data0[0], data0[1])\n",
        "plt.plot(data0[0], splineLinear0(data0[0]), \"green\")"
      ]
    },
    {
      "cell_type": "markdown",
      "id": "83643535",
      "metadata": {
        "id": "83643535"
      },
      "source": [
        "- zoom"
      ]
    },
    {
      "cell_type": "code",
      "execution_count": null,
      "id": "702413ca",
      "metadata": {
        "id": "702413ca",
        "colab": {
          "base_uri": "https://localhost:8080/",
          "height": 300
        },
        "outputId": "91159b53-6f6e-4932-9672-ef0cdcf80c80"
      },
      "outputs": [
        {
          "output_type": "execute_result",
          "data": {
            "text/plain": [
              "[<matplotlib.lines.Line2D at 0x7f7dcd050910>]"
            ]
          },
          "metadata": {},
          "execution_count": 36
        },
        {
          "output_type": "display_data",
          "data": {
            "text/plain": [
              "<Figure size 432x288 with 1 Axes>"
            ],
            "image/png": "[encoded data removed]"
          },
          "metadata": {
            "needs_background": "light"
          }
        }
      ],
      "source": [
        "splineLinear0 = interpolate.interp1d(data0[0], data0[1], kind='linear')\n",
        "\n",
        "plt.xlabel(\"x\")\n",
        "plt.ylabel(\"y\")\n",
        "plt.xlim(2,4)\n",
        "plt.ylim(-5,15)\n",
        "plt.scatter(data0[0], data0[1])\n",
        "\n",
        "xlist = np.linspace(2,4,201)\n",
        "plt.plot(xlist, splineLinear0(xlist), \"green\")"
      ]
    },
    {
      "cell_type": "markdown",
      "source": [
        "-- For Spline Fitting: the approximation of the fitting is good, but it is unphysical as the derivative is constant between 2 points (linear piecewise) \n",
        "\n",
        "-- We can solve this problem by using cubic spline"
      ],
      "metadata": {
        "id": "Fc-QIXXZmVun"
      },
      "id": "Fc-QIXXZmVun"
    },
    {
      "cell_type": "markdown",
      "id": "23b0b018",
      "metadata": {
        "id": "23b0b018"
      },
      "source": [
        "- cubic spline"
      ]
    },
    {
      "cell_type": "code",
      "execution_count": null,
      "id": "7a1c69cf",
      "metadata": {
        "id": "7a1c69cf",
        "colab": {
          "base_uri": "https://localhost:8080/",
          "height": 296
        },
        "outputId": "5feaee94-7c24-4149-a324-8e42b57b4abb"
      },
      "outputs": [
        {
          "output_type": "execute_result",
          "data": {
            "text/plain": [
              "[<matplotlib.lines.Line2D at 0x7f7dcafdc610>]"
            ]
          },
          "metadata": {},
          "execution_count": 37
        },
        {
          "output_type": "display_data",
          "data": {
            "text/plain": [
              "<Figure size 432x288 with 1 Axes>"
            ],
            "image/png": "[encoded data removed]"
          },
          "metadata": {
            "needs_background": "light"
          }
        }
      ],
      "source": [
        "splineCubic0 = interpolate.interp1d(data0[0], data0[1], kind='cubic')\n",
        "\n",
        "plt.xlabel(\"x\")\n",
        "plt.ylabel(\"y\")\n",
        "plt.scatter(data0[0], data0[1])\n",
        "plt.plot(data0[0], splineCubic0(data0[0]), \"green\")"
      ]
    },
    {
      "cell_type": "code",
      "source": [
        "# Zoom in\n",
        "splineCubic0 = interpolate.interp1d(data0[0], data0[1], kind='cubic')\n",
        "\n",
        "plt.xlabel(\"x\")\n",
        "plt.ylabel(\"y\")\n",
        "plt.xlim(2,4)\n",
        "plt.ylim(-5,15)\n",
        "plt.scatter(data0[0], data0[1])\n",
        "\n",
        "xlist = np.linspace(2,4,201)\n",
        "plt.plot(xlist, splineCubic0(xlist), \"green\")"
      ],
      "metadata": {
        "colab": {
          "base_uri": "https://localhost:8080/",
          "height": 300
        },
        "id": "rwa6nTIsnUTq",
        "outputId": "0a723678-9aa1-4313-b7f5-b72f122753a9"
      },
      "id": "rwa6nTIsnUTq",
      "execution_count": null,
      "outputs": [
        {
          "output_type": "execute_result",
          "data": {
            "text/plain": [
              "[<matplotlib.lines.Line2D at 0x7f7dcaf549d0>]"
            ]
          },
          "metadata": {},
          "execution_count": 38
        },
        {
          "output_type": "display_data",
          "data": {
            "text/plain": [
              "<Figure size 432x288 with 1 Axes>"
            ],
            "image/png": "[encoded data removed]"
          },
          "metadata": {
            "needs_background": "light"
          }
        }
      ]
    },
    {
      "cell_type": "markdown",
      "id": "0b2b89c3",
      "metadata": {
        "id": "0b2b89c3"
      },
      "source": [
        "### 2.2.2 Perturbed data"
      ]
    },
    {
      "cell_type": "code",
      "execution_count": null,
      "id": "bd695e4e",
      "metadata": {
        "id": "bd695e4e",
        "colab": {
          "base_uri": "https://localhost:8080/",
          "height": 296
        },
        "outputId": "e66593f8-b11f-4b1a-88be-ee3406457018"
      },
      "outputs": [
        {
          "output_type": "execute_result",
          "data": {
            "text/plain": [
              "[<matplotlib.lines.Line2D at 0x7f7dcaedd8e0>]"
            ]
          },
          "metadata": {},
          "execution_count": 39
        },
        {
          "output_type": "display_data",
          "data": {
            "text/plain": [
              "<Figure size 432x288 with 1 Axes>"
            ],
            "image/png": "[encoded data removed]"
          },
          "metadata": {
            "needs_background": "light"
          }
        }
      ],
      "source": [
        "splineLinear = interpolate.interp1d(data[0], data[1], kind='linear')\n",
        "\n",
        "plt.xlabel(\"x\")\n",
        "plt.ylabel(\"y\")\n",
        "plt.scatter(data[0], data[1])\n",
        "plt.plot(data[0], splineLinear(data[0]), \"green\")"
      ]
    },
    {
      "cell_type": "code",
      "source": [
        "splineCubic = interpolate.interp1d(data[0], data[1], kind='cubic')\n",
        "\n",
        "plt.xlabel(\"x\")\n",
        "plt.ylabel(\"y\")\n",
        "plt.scatter(data[0], data[1])\n",
        "plt.plot(data[0], splineCubic(data[0]), \"green\")"
      ],
      "metadata": {
        "colab": {
          "base_uri": "https://localhost:8080/",
          "height": 296
        },
        "id": "WXUl58FFo90k",
        "outputId": "62da90d0-c04f-49b5-c7bb-1f88ea2a5358"
      },
      "id": "WXUl58FFo90k",
      "execution_count": null,
      "outputs": [
        {
          "output_type": "execute_result",
          "data": {
            "text/plain": [
              "[<matplotlib.lines.Line2D at 0x7f7dcae595e0>]"
            ]
          },
          "metadata": {},
          "execution_count": 40
        },
        {
          "output_type": "display_data",
          "data": {
            "text/plain": [
              "<Figure size 432x288 with 1 Axes>"
            ],
            "image/png": "[encoded data removed]"
          },
          "metadata": {
            "needs_background": "light"
          }
        }
      ]
    },
    {
      "cell_type": "code",
      "source": [
        "# For more points\n",
        "splineCubic = interpolate.interp1d(data[0], data[1], kind='cubic')\n",
        "\n",
        "plt.xlabel(\"x\")\n",
        "plt.ylabel(\"y\")\n",
        "plt.scatter(data[0], data[1])\n",
        "\n",
        "xlist = np.linspace(-4.5, 4.5, 1000)\n",
        "plt.plot(xlist, splineCubic(xlist), \"green\")"
      ],
      "metadata": {
        "colab": {
          "base_uri": "https://localhost:8080/",
          "height": 296
        },
        "id": "UBNAXp-cpYBz",
        "outputId": "833e0a50-3045-487f-8e33-2e36858cb1c8"
      },
      "id": "UBNAXp-cpYBz",
      "execution_count": null,
      "outputs": [
        {
          "output_type": "execute_result",
          "data": {
            "text/plain": [
              "[<matplotlib.lines.Line2D at 0x7f7dcadcaa30>]"
            ]
          },
          "metadata": {},
          "execution_count": 41
        },
        {
          "output_type": "display_data",
          "data": {
            "text/plain": [
              "<Figure size 432x288 with 1 Axes>"
            ],
            "image/png": "[encoded data removed]"
          },
          "metadata": {
            "needs_background": "light"
          }
        }
      ]
    },
    {
      "cell_type": "markdown",
      "source": [
        "-- Here with Linear Spline : the fit is un-physical as the derivative is constant for each interval\n",
        "\n",
        "-- Here with Cubic Spline: the fit is quite over-fitting as it fit noises of the data."
      ],
      "metadata": {
        "id": "ARh5QNimqMTw"
      },
      "id": "ARh5QNimqMTw"
    },
    {
      "cell_type": "markdown",
      "id": "7353a64a",
      "metadata": {
        "id": "7353a64a"
      },
      "source": [
        "- How to handle data which is not smooth?\n",
        "\n",
        "- How we decrease the level of noise fitting/ overfitting\n",
        "\n",
        "A tool of regularlization"
      ]
    },
    {
      "cell_type": "code",
      "execution_count": null,
      "id": "519df67c",
      "metadata": {
        "id": "519df67c",
        "colab": {
          "base_uri": "https://localhost:8080/",
          "height": 296
        },
        "outputId": "a7ba30c8-ff88-488b-f4c9-7dfd5c103a3e"
      },
      "outputs": [
        {
          "output_type": "execute_result",
          "data": {
            "text/plain": [
              "[<matplotlib.lines.Line2D at 0x7f7dcad45490>]"
            ]
          },
          "metadata": {},
          "execution_count": 42
        },
        {
          "output_type": "display_data",
          "data": {
            "text/plain": [
              "<Figure size 432x288 with 1 Axes>"
            ],
            "image/png": "[encoded data removed]"
          },
          "metadata": {
            "needs_background": "light"
          }
        }
      ],
      "source": [
        "splineSmooth = interpolate.UnivariateSpline(data[0], data[1])\n",
        "\n",
        "plt.xlabel(\"x\")\n",
        "plt.ylabel(\"y\")\n",
        "plt.scatter(data[0], data[1])\n",
        "\n",
        "xlist = np.linspace(-4.5, 4.5, 1000)\n",
        "plt.plot(xlist, splineSmooth(xlist), \"green\")"
      ]
    },
    {
      "cell_type": "code",
      "source": [
        "# Increase regulization level\n",
        "splineSmooth = interpolate.UnivariateSpline(data[0], data[1])\n",
        "splineSmooth.set_smoothing_factor(50)\n",
        "plt.xlabel(\"x\")\n",
        "plt.ylabel(\"y\")\n",
        "plt.scatter(data[0], data[1])\n",
        "\n",
        "xlist = np.linspace(-4.5, 4.5, 1000)\n",
        "plt.plot(xlist, splineSmooth(xlist), \"green\")"
      ],
      "metadata": {
        "colab": {
          "base_uri": "https://localhost:8080/",
          "height": 296
        },
        "id": "cbRGK8WLsgU9",
        "outputId": "41b08821-6005-48e5-a2f6-0232f61f60f2"
      },
      "id": "cbRGK8WLsgU9",
      "execution_count": null,
      "outputs": [
        {
          "output_type": "execute_result",
          "data": {
            "text/plain": [
              "[<matplotlib.lines.Line2D at 0x7f7dcad3b8e0>]"
            ]
          },
          "metadata": {},
          "execution_count": 43
        },
        {
          "output_type": "display_data",
          "data": {
            "text/plain": [
              "<Figure size 432x288 with 1 Axes>"
            ],
            "image/png": "[encoded data removed]"
          },
          "metadata": {
            "needs_background": "light"
          }
        }
      ]
    },
    {
      "cell_type": "code",
      "source": [
        "# Increase regulization level\n",
        "splineSmooth = interpolate.UnivariateSpline(data[0], data[1])\n",
        "splineSmooth.set_smoothing_factor(200)\n",
        "plt.xlabel(\"x\")\n",
        "plt.ylabel(\"y\")\n",
        "plt.scatter(data[0], data[1])\n",
        "\n",
        "xlist = np.linspace(-4.5, 4.5, 1000)\n",
        "plt.plot(xlist, splineSmooth(xlist), \"green\")"
      ],
      "metadata": {
        "colab": {
          "base_uri": "https://localhost:8080/",
          "height": 296
        },
        "id": "m0dqcEhqsyKL",
        "outputId": "4e84df67-c0e9-43f4-cb88-212e06a88caf"
      },
      "id": "m0dqcEhqsyKL",
      "execution_count": null,
      "outputs": [
        {
          "output_type": "execute_result",
          "data": {
            "text/plain": [
              "[<matplotlib.lines.Line2D at 0x7f7dcacb5460>]"
            ]
          },
          "metadata": {},
          "execution_count": 44
        },
        {
          "output_type": "display_data",
          "data": {
            "text/plain": [
              "<Figure size 432x288 with 1 Axes>"
            ],
            "image/png": "[encoded data removed]"
          },
          "metadata": {
            "needs_background": "light"
          }
        }
      ]
    },
    {
      "cell_type": "markdown",
      "source": [
        "For Spline Method:\n",
        "- We fit every segment of point with different polynominal functions\n",
        "- This method could results in overfitting as it fits all noise. The linear spline is physically impossible as the derivative is constant of each segment\n",
        "- Regularlization terms are introduced to reduce overfitting.\n",
        "\n",
        "Another idea is to fit the data points with only a single polynominal instead of several for all data points"
      ],
      "metadata": {
        "id": "vtupRKW0voNd"
      },
      "id": "vtupRKW0voNd"
    },
    {
      "cell_type": "markdown",
      "source": [
        "## Add-on: How you can always fit data with a polynominal"
      ],
      "metadata": {
        "id": "h9vg0h0LwnIy"
      },
      "id": "h9vg0h0LwnIy"
    },
    {
      "cell_type": "code",
      "source": [
        "datapoly = data[:,7:14]    # Get 7 data points from pertubated dataset\n",
        "datapoly"
      ],
      "metadata": {
        "colab": {
          "base_uri": "https://localhost:8080/"
        },
        "id": "hchTOw6vwuQW",
        "outputId": "8259fdbc-be97-43cb-ceff-980869811c5b"
      },
      "id": "hchTOw6vwuQW",
      "execution_count": null,
      "outputs": [
        {
          "output_type": "execute_result",
          "data": {
            "text/plain": [
              "array([[-1.66122927, -1.20566778, -0.62149475,  0.24078553,  0.31535054,\n",
              "         0.86281615,  1.34584014],\n",
              "       [12.91549353, 16.5657244 , 12.97948625, 18.28119582, 19.22624209,\n",
              "        12.99113902, 18.42189293]])"
            ]
          },
          "metadata": {},
          "execution_count": 45
        }
      ]
    },
    {
      "cell_type": "markdown",
      "source": [
        "we have 7 data points - meaning we need a 6th polynominal for the perfect interpolation\n",
        "\n",
        "![image.png](data:image/png;base64,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)"
      ],
      "metadata": {
        "id": "ceu_O0EwxP6j"
      },
      "id": "ceu_O0EwxP6j"
    },
    {
      "cell_type": "markdown",
      "source": [
        "The middle matrix is a matrix of numbers we can calculate to find the slope vector a "
      ],
      "metadata": {
        "id": "gesqwHenzOrs"
      },
      "id": "gesqwHenzOrs"
    },
    {
      "cell_type": "code",
      "source": [
        "x = np.array([datapoly[0,:]**0, datapoly[0,:]**1, datapoly[0,:]**2, datapoly[0,:]**3, datapoly[0,:]**4, datapoly[0,:]**5, datapoly[0,:]**6])\n",
        "x = x.T"
      ],
      "metadata": {
        "id": "0TITHkATxH0L"
      },
      "id": "0TITHkATxH0L",
      "execution_count": null,
      "outputs": []
    },
    {
      "cell_type": "code",
      "source": [
        "x[:,0] # after transpose, the first column is 1 for each element"
      ],
      "metadata": {
        "colab": {
          "base_uri": "https://localhost:8080/"
        },
        "id": "1dbPA4h8w9q4",
        "outputId": "9edb731f-87e2-40eb-abae-29afe2a3785a"
      },
      "id": "1dbPA4h8w9q4",
      "execution_count": null,
      "outputs": [
        {
          "output_type": "execute_result",
          "data": {
            "text/plain": [
              "array([1., 1., 1., 1., 1., 1., 1.])"
            ]
          },
          "metadata": {},
          "execution_count": 47
        }
      ]
    },
    {
      "cell_type": "code",
      "source": [
        "y = datapoly[1,:]\n",
        "y"
      ],
      "metadata": {
        "colab": {
          "base_uri": "https://localhost:8080/"
        },
        "id": "UDjI2eaz1Doe",
        "outputId": "744955ca-ff50-4633-a86f-a3dcf09fcd16"
      },
      "id": "UDjI2eaz1Doe",
      "execution_count": null,
      "outputs": [
        {
          "output_type": "execute_result",
          "data": {
            "text/plain": [
              "array([12.91549353, 16.5657244 , 12.97948625, 18.28119582, 19.22624209,\n",
              "       12.99113902, 18.42189293])"
            ]
          },
          "metadata": {},
          "execution_count": 48
        }
      ]
    },
    {
      "cell_type": "code",
      "source": [
        "a = np.linalg.solve(x, y)"
      ],
      "metadata": {
        "id": "4wDHfFDG1j4K"
      },
      "id": "4wDHfFDG1j4K",
      "execution_count": null,
      "outputs": []
    },
    {
      "cell_type": "code",
      "source": [
        "a"
      ],
      "metadata": {
        "colab": {
          "base_uri": "https://localhost:8080/"
        },
        "id": "SKPgDnYW2MJ1",
        "outputId": "ad880cda-93b1-45b2-c467-c5885adc0eac"
      },
      "id": "SKPgDnYW2MJ1",
      "execution_count": null,
      "outputs": [
        {
          "output_type": "execute_result",
          "data": {
            "text/plain": [
              "array([ 14.34662395,  15.94753119,  10.93812579, -34.5796759 ,\n",
              "       -20.91706137,  14.63247435,   8.60112761])"
            ]
          },
          "metadata": {},
          "execution_count": 50
        }
      ]
    },
    {
      "cell_type": "code",
      "source": [
        "plt.xlabel(\"x\")\n",
        "plt.ylabel(\"y\")\n",
        "plt.ylim([-80,30])\n",
        "x_list = np.linspace(-2.5,2.5,901)\n",
        "y_list = a[0]*x_list**0 + a[1]*x_list + a[2]*x_list**2 + a[3]*x_list**3 + a[4]*x_list**4 + a[5]*x_list**5 + a[6]*x_list**6\n",
        "plt.scatter(datapoly[0], datapoly[1])\n",
        "plt.plot(x_list, y_list)"
      ],
      "metadata": {
        "colab": {
          "base_uri": "https://localhost:8080/",
          "height": 296
        },
        "id": "k7kUbuUg2WZK",
        "outputId": "7089da94-7269-4960-e38c-a196e1194212"
      },
      "id": "k7kUbuUg2WZK",
      "execution_count": null,
      "outputs": [
        {
          "output_type": "execute_result",
          "data": {
            "text/plain": [
              "[<matplotlib.lines.Line2D at 0x7f7dcac35040>]"
            ]
          },
          "metadata": {},
          "execution_count": 51
        },
        {
          "output_type": "display_data",
          "data": {
            "text/plain": [
              "<Figure size 432x288 with 1 Axes>"
            ],
            "image/png": "[encoded data removed]"
          },
          "metadata": {
            "needs_background": "light"
          }
        }
      ]
    },
    {
      "cell_type": "markdown",
      "id": "3bab25d9",
      "metadata": {
        "id": "3bab25d9"
      },
      "source": [
        "## 2.3 Fitting a model function"
      ]
    },
    {
      "cell_type": "markdown",
      "id": "3a6ef777",
      "metadata": {
        "id": "3a6ef777"
      },
      "source": [
        "Choose ideal parameters of a (physically motivated) model function such that error is minimized."
      ]
    },
    {
      "cell_type": "markdown",
      "id": "f3354650",
      "metadata": {
        "id": "f3354650"
      },
      "source": [
        "### 2.3.1 Define model function"
      ]
    },
    {
      "cell_type": "markdown",
      "id": "3ee68e24",
      "metadata": {
        "id": "3ee68e24"
      },
      "source": [
        "For practice, we consider a polynomial: \\\\( f(x) = a_0 + a_1 x + a_2 x^2 + \\dots + a_n x^n = \\sum_{k=0}^n a_k x^k\\\\)"
      ]
    },
    {
      "cell_type": "code",
      "execution_count": null,
      "id": "5dfbbf96",
      "metadata": {
        "id": "5dfbbf96",
        "colab": {
          "base_uri": "https://localhost:8080/",
          "height": 282
        },
        "outputId": "ccaf738d-d5cd-4f02-d223-503ece59d180"
      },
      "outputs": [
        {
          "output_type": "execute_result",
          "data": {
            "text/plain": [
              "[<matplotlib.lines.Line2D at 0x7f7dcaba3340>]"
            ]
          },
          "metadata": {},
          "execution_count": 52
        },
        {
          "output_type": "display_data",
          "data": {
            "text/plain": [
              "<Figure size 432x288 with 1 Axes>"
            ],
            "image/png": "[encoded data removed]"
          },
          "metadata": {
            "needs_background": "light"
          }
        }
      ],
      "source": [
        "# We will find the parameters of the function to fit the data points with minimum error\n",
        "plt.scatter(data[0], data[1])\n",
        "plt.plot(data0[0], data0[1])"
      ]
    },
    {
      "cell_type": "code",
      "source": [
        "def polynominalModel(x, a):\n",
        "  # x: argument of points \n",
        "  # a: the parameters of model\n",
        "  t = 0\n",
        "  for k in range(len(a)):\n",
        "    t = t + a[k] * x**k\n",
        "  return t"
      ],
      "metadata": {
        "id": "zQaAueVK6Un3"
      },
      "id": "zQaAueVK6Un3",
      "execution_count": null,
      "outputs": []
    },
    {
      "cell_type": "code",
      "source": [
        "# Let's try with the true function parameters\n",
        "a0 = np.array([15, 2.4, -0.5, -0.35])"
      ],
      "metadata": {
        "id": "DZqpOP-k7aPN"
      },
      "id": "DZqpOP-k7aPN",
      "execution_count": null,
      "outputs": []
    },
    {
      "cell_type": "code",
      "source": [
        "plt.xlabel(\"x\")\n",
        "plt.ylabel(\"y\")\n",
        "\n",
        "x_list = np.linspace(-5,5, 100)\n",
        "plt.plot(x_list, polynominalModel(x_list, a0))"
      ],
      "metadata": {
        "colab": {
          "base_uri": "https://localhost:8080/",
          "height": 296
        },
        "id": "C_P8PEDQ7wH_",
        "outputId": "529bb1bb-95bd-48b3-d42a-e92d565ca187"
      },
      "id": "C_P8PEDQ7wH_",
      "execution_count": null,
      "outputs": [
        {
          "output_type": "execute_result",
          "data": {
            "text/plain": [
              "[<matplotlib.lines.Line2D at 0x7f7dc01e9d00>]"
            ]
          },
          "metadata": {},
          "execution_count": 85
        },
        {
          "output_type": "display_data",
          "data": {
            "text/plain": [
              "<Figure size 432x288 with 1 Axes>"
            ],
            "image/png": "[encoded data removed]"
          },
          "metadata": {
            "needs_background": "light"
          }
        }
      ]
    },
    {
      "cell_type": "code",
      "source": [
        "polynominalModel(x=np.array([1,2,3]), a=a0)"
      ],
      "metadata": {
        "colab": {
          "base_uri": "https://localhost:8080/"
        },
        "id": "zaKnm2rHLTko",
        "outputId": "7956cd90-43fa-41c6-c475-25fd6d4745c9"
      },
      "id": "zaKnm2rHLTko",
      "execution_count": null,
      "outputs": [
        {
          "output_type": "execute_result",
          "data": {
            "text/plain": [
              "array([16.55, 15.  ,  8.25])"
            ]
          },
          "metadata": {},
          "execution_count": 86
        }
      ]
    },
    {
      "cell_type": "markdown",
      "source": [
        "The function will get x and a set of a, then output the value of y.\n",
        "If we input x as a list, it will about the list of y based on the function parameters.\n",
        "Out task is to find out a set of a that would output a set of y prediction for abs(y prediction - y true) is minimum"
      ],
      "metadata": {
        "id": "fVdbljwGJ8pr"
      },
      "id": "fVdbljwGJ8pr"
    },
    {
      "cell_type": "markdown",
      "id": "deb94dd0",
      "metadata": {
        "id": "deb94dd0"
      },
      "source": [
        "### 2.3.2 Define error "
      ]
    },
    {
      "cell_type": "markdown",
      "id": "ba18c206",
      "metadata": {
        "id": "ba18c206"
      },
      "source": [
        "There are many reasonable definitions of an error function but a very common choice is: \\\\( \\Delta = \\sum_{i=1}^n \\left(y_i-f(x_i)\\right)^2\\\\)\n",
        "\n",
        "\\\\( f \\\\) is the fit function that is determined by the coefficients \\\\( a_i \\\\) in our case.\n",
        "\n",
        "\\\\( (x_i, y_i) \\\\) are the data points that we try to fit."
      ]
    },
    {
      "cell_type": "code",
      "execution_count": null,
      "id": "a2c809aa",
      "metadata": {
        "id": "a2c809aa"
      },
      "outputs": [],
      "source": [
        "def errorFit(f, coefficients, data):\n",
        "  # f: fit function\n",
        "  # coeff: ai to optimize (same as ai)\n",
        "  # data: data we fit\n",
        "  error = 0\n",
        "  for i in range(len(data[0])):\n",
        "    error = error + (data[1, i] - f(data[0, i], coefficients))**2\n",
        "    #print(error)\n",
        "  return error"
      ]
    },
    {
      "cell_type": "code",
      "source": [
        "errorFit(polynominalModel, a0, data)"
      ],
      "metadata": {
        "colab": {
          "base_uri": "https://localhost:8080/"
        },
        "id": "XlAZfiA5NQM7",
        "outputId": "85ecde10-5883-43ad-a29d-e7bae9c2a129"
      },
      "id": "XlAZfiA5NQM7",
      "execution_count": null,
      "outputs": [
        {
          "output_type": "execute_result",
          "data": {
            "text/plain": [
              "299.56218720120097"
            ]
          },
          "metadata": {},
          "execution_count": 88
        }
      ]
    },
    {
      "cell_type": "markdown",
      "id": "74701646",
      "metadata": {
        "id": "74701646"
      },
      "source": [
        "### 2.3.3 Update coefficients to reduce the error (gradient descent)"
      ]
    },
    {
      "cell_type": "markdown",
      "id": "c1274500",
      "metadata": {
        "id": "c1274500"
      },
      "source": [
        "We can use several different methods to minimize the error, e. g. a Monte-Carlo algorithm. Here, we will use the gradient descent method. The coefficients \\\\( a_i \\\\) will be updated along the gradient direction of the error function \\\\( \\nabla_{\\vec{a}} \\Delta\\\\). The gradient consists of elements \\\\( \\frac{\\partial}{\\partial a_k} \\Delta = -2 \\sum_{i=1}^n \\left(y_i-f(x_i)\\right) \\frac{\\partial}{\\partial a_k}f(x_i) = -2 \\sum_{i=1}^n \\left(y_i-f(x_i)\\right) x_i^{k}\\\\)"
      ]
    },
    {
      "cell_type": "code",
      "execution_count": null,
      "id": "b2e7a9c7",
      "metadata": {
        "id": "b2e7a9c7"
      },
      "outputs": [],
      "source": [
        "def errorFitGradient(f, coefficients, data):\n",
        "   # f: fit function\n",
        "   # coeff: ai to optimize (same as ai)\n",
        "   # data: data we fit\n",
        "   return -2 * np.array([\n",
        "            np.sum(np.array([(data[1,i] - f(data[0,i], coefficients))*data[0,i]**k for i in range(len(data[0]))]))\n",
        "       for k in range(len(coefficients))])"
      ]
    },
    {
      "cell_type": "code",
      "source": [
        "errorFitGradient(polynominalModel, a0, data)"
      ],
      "metadata": {
        "colab": {
          "base_uri": "https://localhost:8080/"
        },
        "id": "rMQg_HUTVvDS",
        "outputId": "498d84bd-65e6-4fc2-c186-93b26050099c"
      },
      "id": "rMQg_HUTVvDS",
      "execution_count": null,
      "outputs": [
        {
          "output_type": "execute_result",
          "data": {
            "text/plain": [
              "array([  -15.5446857 ,   -58.93010598,  -232.20906645, -3076.62754027])"
            ]
          },
          "metadata": {},
          "execution_count": 90
        }
      ]
    },
    {
      "cell_type": "code",
      "source": [
        "def errorFitGradientLooping(f, coefficients, data):\n",
        "  gradients = []\n",
        "  for k in range(len(coefficients)):\n",
        "    gradient_k = 0\n",
        "    for i in range(len(data[0])):\n",
        "      gradient_k = gradient_k + (-2)*(data[1,i] - f(data[0,i], coefficients)) * data[0,i]**k\n",
        "\n",
        "    gradients.append(gradient_k)\n",
        "  \n",
        "  return np.array(gradients)"
      ],
      "metadata": {
        "id": "1qlppGhOfXkS"
      },
      "id": "1qlppGhOfXkS",
      "execution_count": null,
      "outputs": []
    },
    {
      "cell_type": "code",
      "source": [
        "errorFitGradientLooping(polynominalModel, a0, data)"
      ],
      "metadata": {
        "colab": {
          "base_uri": "https://localhost:8080/"
        },
        "id": "cEH8r0HHgLna",
        "outputId": "1a81751b-44c6-4efd-a0a8-f43d84da5101"
      },
      "id": "cEH8r0HHgLna",
      "execution_count": null,
      "outputs": [
        {
          "output_type": "execute_result",
          "data": {
            "text/plain": [
              "array([  -15.5446857 ,   -58.93010598,  -232.20906645, -3076.62754027])"
            ]
          },
          "metadata": {},
          "execution_count": 92
        }
      ]
    },
    {
      "cell_type": "markdown",
      "id": "23fb3610",
      "metadata": {
        "id": "23fb3610"
      },
      "source": [
        "### 2.3.4 Loop for the actual fitting"
      ]
    },
    {
      "cell_type": "code",
      "execution_count": null,
      "id": "fe7686c6",
      "metadata": {
        "id": "fe7686c6",
        "colab": {
          "base_uri": "https://localhost:8080/"
        },
        "outputId": "de45fb3c-985e-4f35-a447-a221166962e3"
      },
      "outputs": [
        {
          "output_type": "stream",
          "name": "stdout",
          "text": [
            "[ 0.06060048 -0.05053454  0.15440605  0.46888038]\n",
            "[15.09045664  1.0448205  -0.47262172 -0.26075062]\n"
          ]
        }
      ],
      "source": [
        "# Start with the random coefficients\n",
        "iterations = 100000\n",
        "h = 0.00001\n",
        "a = 2*np.random.rand(4)-1\n",
        "\n",
        "print(a)\n",
        "for i in range(iterations):\n",
        "  a = a - h * errorFitGradientLooping(polynominalModel, a, data)   # Go the opposite of the gradient\n",
        "\n",
        "print(a)"
      ]
    },
    {
      "cell_type": "markdown",
      "id": "72361f21",
      "metadata": {
        "id": "72361f21"
      },
      "source": [
        "- Comparison of a and a0"
      ]
    },
    {
      "cell_type": "code",
      "execution_count": null,
      "id": "f680177f",
      "metadata": {
        "id": "f680177f",
        "colab": {
          "base_uri": "https://localhost:8080/"
        },
        "outputId": "a5a8bae6-7509-4cc8-bf40-b82a12c28f42"
      },
      "outputs": [
        {
          "output_type": "stream",
          "name": "stdout",
          "text": [
            "[15.09045664  1.0448205  -0.47262172 -0.26075062]\n",
            "[15.    2.4  -0.5  -0.35]\n"
          ]
        }
      ],
      "source": [
        "print(a)\n",
        "print(a0)"
      ]
    },
    {
      "cell_type": "code",
      "source": [
        "plt.xlabel(\"x\")\n",
        "plt.ylabel(\"y\")\n",
        "\n",
        "x_list = np.linspace(-5,5,100)\n",
        "plt.plot(x_list, polynominalModel(x_list, a0), \"black\", label=\"a0\")\n",
        "plt.scatter(data[0], data[1])\n",
        "plt.plot(x_list, polynominalModel(x_list, a), \"green\", label=\"a\")\n",
        "plt.legend()"
      ],
      "metadata": {
        "colab": {
          "base_uri": "https://localhost:8080/",
          "height": 296
        },
        "id": "BAIDAbH8fbYz",
        "outputId": "a4df1126-a87c-4970-8323-85b965947a86"
      },
      "id": "BAIDAbH8fbYz",
      "execution_count": null,
      "outputs": [
        {
          "output_type": "execute_result",
          "data": {
            "text/plain": [
              "<matplotlib.legend.Legend at 0x7f7dc00d3610>"
            ]
          },
          "metadata": {},
          "execution_count": 95
        },
        {
          "output_type": "display_data",
          "data": {
            "text/plain": [
              "<Figure size 432x288 with 1 Axes>"
            ],
            "image/png": "[encoded data removed]"
          },
          "metadata": {
            "needs_background": "light"
          }
        }
      ]
    },
    {
      "cell_type": "code",
      "source": [
        "errorFit(polynominalModel, a, data)"
      ],
      "metadata": {
        "colab": {
          "base_uri": "https://localhost:8080/"
        },
        "id": "XZrBB4PF0KNr",
        "outputId": "a5d6816f-3311-4bcd-8bc8-239d77f21147"
      },
      "id": "XZrBB4PF0KNr",
      "execution_count": null,
      "outputs": [
        {
          "output_type": "execute_result",
          "data": {
            "text/plain": [
              "198.31726931503303"
            ]
          },
          "metadata": {},
          "execution_count": 96
        }
      ]
    },
    {
      "cell_type": "code",
      "source": [
        "errorFit(polynominalModel, a0, data)"
      ],
      "metadata": {
        "colab": {
          "base_uri": "https://localhost:8080/"
        },
        "id": "_s36S6Oi0QUn",
        "outputId": "cfc667f7-55d4-43e9-cc80-af1a8660fbe9"
      },
      "id": "_s36S6Oi0QUn",
      "execution_count": null,
      "outputs": [
        {
          "output_type": "execute_result",
          "data": {
            "text/plain": [
              "299.56218720120097"
            ]
          },
          "metadata": {},
          "execution_count": 98
        }
      ]
    },
    {
      "cell_type": "markdown",
      "source": [
        "The new fit actually outperformed the original function"
      ],
      "metadata": {
        "id": "jwZsFic_0V3O"
      },
      "id": "jwZsFic_0V3O"
    },
    {
      "cell_type": "markdown",
      "source": [
        "## Put it all together"
      ],
      "metadata": {
        "id": "-w9TcRyp2OI5"
      },
      "id": "-w9TcRyp2OI5"
    },
    {
      "cell_type": "markdown",
      "source": [
        "### Generate data points and noise"
      ],
      "metadata": {
        "id": "uLm6H0iA2Rjd"
      },
      "id": "uLm6H0iA2Rjd"
    },
    {
      "cell_type": "code",
      "source": [
        "def correctFunction(x):\n",
        "  return 15 + 2.4*x - 0.5*x**2 - 0.35*x**3\n",
        "\n",
        "\n",
        "npoints = 31\n",
        "xlist = np.linspace(-5,5,npoints)\n",
        "data0 = np.array([xlist, correctFunction(xlist)])\n",
        "\n",
        "plt.xlabel(\"x\")\n",
        "plt.ylabel(\"y\")\n",
        "plt.scatter(data0[0], data0[1])"
      ],
      "metadata": {
        "colab": {
          "base_uri": "https://localhost:8080/",
          "height": 296
        },
        "id": "VQQ9FucB0U-y",
        "outputId": "0f044167-0310-45fb-b61d-2f23adf46787"
      },
      "id": "VQQ9FucB0U-y",
      "execution_count": null,
      "outputs": [
        {
          "output_type": "execute_result",
          "data": {
            "text/plain": [
              "<matplotlib.collections.PathCollection at 0x7f7dbff32fa0>"
            ]
          },
          "metadata": {},
          "execution_count": 101
        },
        {
          "output_type": "display_data",
          "data": {
            "text/plain": [
              "<Figure size 432x288 with 1 Axes>"
            ],
            "image/png": "[encoded data removed]"
          },
          "metadata": {
            "needs_background": "light"
          }
        }
      ]
    },
    {
      "cell_type": "code",
      "source": [
        "# Shift x by +- 0.25 and y by +- 5.0\n",
        "data = np.array([data0[0] + (2*np.random.rand(npoints) -1) * 0.25, data0[1] + (2*np.random.rand(npoints) -1) * 5])\n",
        "\n",
        "plt.xlabel(\"x\")\n",
        "plt.ylabel(\"y\")\n",
        "plt.scatter(data[0], data[1])\n",
        "plt.plot(data0[0], data0[1], \"green\")"
      ],
      "metadata": {
        "colab": {
          "base_uri": "https://localhost:8080/",
          "height": 296
        },
        "id": "HFRmKZGb2n5i",
        "outputId": "de027168-5c95-43ed-a8b9-2226c17f0b77"
      },
      "id": "HFRmKZGb2n5i",
      "execution_count": null,
      "outputs": [
        {
          "output_type": "execute_result",
          "data": {
            "text/plain": [
              "[<matplotlib.lines.Line2D at 0x7f7dbfdf60a0>]"
            ]
          },
          "metadata": {},
          "execution_count": 102
        },
        {
          "output_type": "display_data",
          "data": {
            "text/plain": [
              "<Figure size 432x288 with 1 Axes>"
            ],
            "image/png": "[encoded data removed]"
          },
          "metadata": {
            "needs_background": "light"
          }
        }
      ]
    },
    {
      "cell_type": "markdown",
      "source": [
        "### Fitting function"
      ],
      "metadata": {
        "id": "LRk6ezn83rE3"
      },
      "id": "LRk6ezn83rE3"
    },
    {
      "cell_type": "code",
      "source": [
        "# Let's try with the true function parameters\n",
        "a0 = np.array([15, 2.4, -0.5, -0.35])\n",
        "data0\n",
        "data"
      ],
      "metadata": {
        "colab": {
          "base_uri": "https://localhost:8080/"
        },
        "id": "LLZJHkzl33nZ",
        "outputId": "8a04b056-7199-45ed-af49-96b68fa5b9e4"
      },
      "id": "LLZJHkzl33nZ",
      "execution_count": null,
      "outputs": [
        {
          "output_type": "execute_result",
          "data": {
            "text/plain": [
              "array([[ -5.10852754,  -4.74061982,  -4.12345914,  -4.12586051,\n",
              "         -3.57891313,  -3.55474745,  -3.00198395,  -2.69527249,\n",
              "         -2.32924959,  -1.75536911,  -1.57249729,  -1.24254066,\n",
              "         -0.9066762 ,  -0.44208102,  -0.29308299,  -0.21609233,\n",
              "          0.32110352,   0.66821857,   0.89084811,   1.14843358,\n",
              "          1.86879442,   2.05678685,   2.25170478,   2.77733713,\n",
              "          2.87811713,   3.30376379,   3.71542289,   4.08894087,\n",
              "          4.09031097,   4.47952531,   5.09179617],\n",
              "       [ 38.77554969,  23.70599409,  27.1304855 ,  24.18384386,\n",
              "         14.06638164,  10.69849432,   9.42952353,   7.69945667,\n",
              "         13.62063637,  10.04249508,   8.98738891,  11.16158752,\n",
              "          9.91111604,  15.10462332,  11.49645456,  19.69747314,\n",
              "         11.94503675,  15.61420288,  16.31396324,  20.44498258,\n",
              "         20.02416242,  14.08633595,   8.50496557,   7.9805125 ,\n",
              "          6.81354501,   2.28136884,  -1.65447746,  -5.66136026,\n",
              "        -17.44943173, -24.49231902, -27.85185099]])"
            ]
          },
          "metadata": {},
          "execution_count": 106
        }
      ]
    },
    {
      "cell_type": "markdown",
      "source": [
        "For practice, we consider a polynomial: \\\\( f(x) = a_0 + a_1 x + a_2 x^2 + \\dots + a_n x^n = \\sum_{k=0}^n a_k x^k\\\\)\n",
        "\n",
        "There are many reasonable definitions of an error function but a very common choice is: \\\\( \\Delta = \\sum_{i=1}^n \\left(y_i-f(x_i)\\right)^2\\\\)\n",
        "\n",
        "\\\\( f \\\\) is the fit function that is determined by the coefficients \\\\( a_i \\\\) in our case.\n",
        "\n",
        "\\\\( (x_i, y_i) \\\\) are the data points that we try to fit.\n",
        "\n",
        "We can use several different methods to minimize the error, e. g. a Monte-Carlo algorithm. Here, we will use the gradient descent method. The coefficients \\\\( a_i \\\\) will be updated along the gradient direction of the error function \\\\( \\nabla_{\\vec{a}} \\Delta\\\\). The gradient consists of elements \\\\( \\frac{\\partial}{\\partial a_k} \\Delta = -2 \\sum_{i=1}^n \\left(y_i-f(x_i)\\right) \\frac{\\partial}{\\partial a_k}f(x_i) = -2 \\sum_{i=1}^n \\left(y_i-f(x_i)\\right) x_i^{k}\\\\)"
      ],
      "metadata": {
        "id": "bn_8chKP4zwl"
      },
      "id": "bn_8chKP4zwl"
    },
    {
      "cell_type": "code",
      "source": [
        "################################## The model function that take input of x point and coefficient a - then output y #####################3333\n",
        "def polynominalModel(x, a):\n",
        "  # x: argument of points \n",
        "  # a: the parameters of model\n",
        "  t = 0\n",
        "  for k in range(len(a)):\n",
        "    t = t + a[k] * x**k\n",
        "  return t\n",
        "\n",
        "\n",
        "################################## The error function that gives the residual of actual y value and prediction from the f function with coefficient a\n",
        "def errorFit(f, coefficients, data):\n",
        "  # f: fit function\n",
        "  # coeff: ai to optimize (same as ai)\n",
        "  # data: data we fit\n",
        "  error = 0\n",
        "  for i in range(len(data[0])):\n",
        "    error = error + (data[1, i] - f(data[0, i], coefficients))**2\n",
        "    #print(error)\n",
        "  return error\n",
        "\n",
        "\n",
        "################################ Gradient function output the vector of gradient \n",
        "def errorFitGradientLooping(f, coefficients, data):\n",
        "  gradients = []\n",
        "  for k in range(len(coefficients)):\n",
        "    gradient_k = 0\n",
        "    for i in range(len(data[0])):\n",
        "      gradient_k = gradient_k + (-2)*(data[1,i] - f(data[0,i], coefficients)) * data[0,i]**k\n",
        "\n",
        "    gradients.append(gradient_k)\n",
        "  \n",
        "  return np.array(gradients)\n",
        "\n",
        "\n",
        "def errorFitGradient(f, coefficients, data):\n",
        "   # f: fit function\n",
        "   # coeff: ai to optimize (same as ai)\n",
        "   # data: data we fit\n",
        "   return -2 * np.array([\n",
        "            np.sum(np.array([(data[1,i] - f(data[0,i], coefficients))*data[0,i]**k for i in range(len(data[0]))]))\n",
        "       for k in range(len(coefficients))])\n",
        "  "
      ],
      "metadata": {
        "id": "mTOuwfuP3qiv"
      },
      "id": "mTOuwfuP3qiv",
      "execution_count": null,
      "outputs": []
    },
    {
      "cell_type": "markdown",
      "source": [
        "Let's try to fit with the 5th polynominal instead of 4th polynominal"
      ],
      "metadata": {
        "id": "AXoUk2oL5MOg"
      },
      "id": "AXoUk2oL5MOg"
    },
    {
      "cell_type": "code",
      "source": [
        "# Start with the random coefficients\n",
        "iterations = 10000\n",
        "h = 0.00001\n",
        "a = 2*np.random.rand(4)-1\n",
        "\n",
        "print(a)\n",
        "for i in range(iterations):\n",
        "  a = a - h * errorFitGradient(polynominalModel, a, data)   # Go the opposite of the gradient\n",
        "\n",
        "print(a)"
      ],
      "metadata": {
        "colab": {
          "base_uri": "https://localhost:8080/"
        },
        "id": "EPKe2Sys5LqU",
        "outputId": "bbd6b59f-b316-454a-8cd9-e37f3f562151"
      },
      "id": "EPKe2Sys5LqU",
      "execution_count": null,
      "outputs": [
        {
          "output_type": "stream",
          "name": "stdout",
          "text": [
            "[-0.81295201  0.9324127   0.3428279  -0.40851723]\n",
            "[13.32639073  2.34381937 -0.4792766  -0.35814667]\n"
          ]
        }
      ]
    },
    {
      "cell_type": "code",
      "source": [
        "plt.xlabel(\"x\")\n",
        "plt.ylabel(\"y\")\n",
        "\n",
        "x_list = np.linspace(-5,5,100)\n",
        "plt.plot(x_list, polynominalModel(x_list, a0), \"black\", label=\"a0\")\n",
        "plt.scatter(data[0], data[1])\n",
        "plt.plot(x_list, polynominalModel(x_list, a), \"green\", label=\"a\")\n",
        "plt.legend()"
      ],
      "metadata": {
        "colab": {
          "base_uri": "https://localhost:8080/",
          "height": 296
        },
        "id": "tgs9wRIv5mrE",
        "outputId": "66f29dbe-802e-4469-99c9-79463665ca72"
      },
      "id": "tgs9wRIv5mrE",
      "execution_count": null,
      "outputs": [
        {
          "output_type": "execute_result",
          "data": {
            "text/plain": [
              "<matplotlib.legend.Legend at 0x7f7dc0432070>"
            ]
          },
          "metadata": {},
          "execution_count": 129
        },
        {
          "output_type": "display_data",
          "data": {
            "text/plain": [
              "<Figure size 432x288 with 1 Axes>"
            ],
            "image/png": "[encoded data removed]"
          },
          "metadata": {
            "needs_background": "light"
          }
        }
      ]
    },
    {
      "cell_type": "code",
      "source": [
        "a"
      ],
      "metadata": {
        "colab": {
          "base_uri": "https://localhost:8080/"
        },
        "id": "_4Jh8QAf6D33",
        "outputId": "e390cb7e-d55f-4eae-bfb9-68ff37aa8705"
      },
      "id": "_4Jh8QAf6D33",
      "execution_count": null,
      "outputs": [
        {
          "output_type": "execute_result",
          "data": {
            "text/plain": [
              "array([13.32639073,  2.34381937, -0.4792766 , -0.35814667])"
            ]
          },
          "metadata": {},
          "execution_count": 130
        }
      ]
    },
    {
      "cell_type": "code",
      "source": [
        "a0"
      ],
      "metadata": {
        "colab": {
          "base_uri": "https://localhost:8080/"
        },
        "id": "QFI8pVU56GT1",
        "outputId": "ccbbafdc-aa8b-40a3-d526-33666691abd7"
      },
      "id": "QFI8pVU56GT1",
      "execution_count": null,
      "outputs": [
        {
          "output_type": "execute_result",
          "data": {
            "text/plain": [
              "array([15.  ,  2.4 , -0.5 , -0.35])"
            ]
          },
          "metadata": {},
          "execution_count": 131
        }
      ]
    },
    {
      "cell_type": "code",
      "source": [
        "errorFit(polynominalModel, a, data), errorFit(polynominalModel, a0, data)"
      ],
      "metadata": {
        "colab": {
          "base_uri": "https://localhost:8080/"
        },
        "id": "HlTx38t959mf",
        "outputId": "da29ecbb-1ed6-4483-80ba-3dc1666e6055"
      },
      "id": "HlTx38t959mf",
      "execution_count": null,
      "outputs": [
        {
          "output_type": "execute_result",
          "data": {
            "text/plain": [
              "(460.70359706039187, 497.28207012114433)"
            ]
          },
          "metadata": {},
          "execution_count": 132
        }
      ]
    }
  ],
  "metadata": {
    "kernelspec": {
      "display_name": "Python 3 (ipykernel)",
      "language": "python",
      "name": "python3"
    },
    "language_info": {
      "codemirror_mode": {
        "name": "ipython",
        "version": 3
      },
      "file_extension": ".py",
      "mimetype": "text/x-python",
      "name": "python",
      "nbconvert_exporter": "python",
      "pygments_lexer": "ipython3",
      "version": "3.9.7"
    },
    "colab": {
      "provenance": [],
      "toc_visible": true
    }
  },
  "nbformat": 4,
  "nbformat_minor": 5
}